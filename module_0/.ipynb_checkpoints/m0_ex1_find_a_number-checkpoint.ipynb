{
 "cells": [
  {
   "cell_type": "code",
   "execution_count": 62,
   "metadata": {},
   "outputs": [
    {
     "name": "stdout",
     "output_type": "stream",
     "text": [
      "Загадано число от 0 до 101\n",
      "Новый алгоритм угадывает число в среднем за 5 попыток\n"
     ]
    },
    {
     "data": {
      "text/plain": [
       "5"
      ]
     },
     "execution_count": 62,
     "metadata": {},
     "output_type": "execute_result"
    }
   ],
   "source": [
    "import numpy as np\n",
    "import statistics\n",
    "\n",
    "range_num = [0,101]      # Диапазон числа\n",
    "test_iterations = 1000   # Число попыток\n",
    "print (f\"Загадано число от {range_num[0]} до {range_num[1]}\")\n",
    "\n",
    "def game_core_new(num_to_find, range_num):\n",
    "# Функция ищет загаданное число методом двоичного поиска\n",
    "# Функция принимает загаданное число, осуществляет поиск и возвращает число попыток\n",
    "    count = 0    # счетчик попыток\n",
    "    predict = 0  # Целевое значение\n",
    "    local_range = list(range_num)\n",
    "    while num_to_find != predict and count < 1000: # Защитный интервал 1000\n",
    "        count += 1\n",
    "        predict = int(statistics.median(local_range)) # Делим отрезок пополам\n",
    "        if num_to_find > predict:\n",
    "            local_range[0] = predict\n",
    "        elif num_to_find < predict:\n",
    "            local_range[1]= predict\n",
    "    return(count) # вернем результат\n",
    "\n",
    "def score_game(game_core, range_num):\n",
    "#   Запускаем игру 1000 раз, чтобы узнать, как быстро игра угадывает число\n",
    "    count_ls = []\n",
    "    np.random.seed(1)  # фиксируем RANDOM SEED, чтобы ваш эксперимент был воспроизводим!\n",
    "    random_array = np.random.randint(range_num[0], range_num[1], size=(test_iterations))\n",
    "    for number in random_array:\n",
    "        count_ls.append(game_core(number, range_num))\n",
    "    score = int(np.mean(count_ls))\n",
    "    print(f\"Новый алгоритм угадывает число в среднем за {score} попыток\")\n",
    "    return(score)\n",
    "\n",
    "score_game(game_core_new, range_num)\n"
   ]
  },
  {
   "cell_type": "code",
   "execution_count": null,
   "metadata": {},
   "outputs": [],
   "source": []
  }
 ],
 "metadata": {
  "kernelspec": {
   "display_name": "Python 3",
   "language": "python",
   "name": "python3"
  },
  "language_info": {
   "codemirror_mode": {
    "name": "ipython",
    "version": 3
   },
   "file_extension": ".py",
   "mimetype": "text/x-python",
   "name": "python",
   "nbconvert_exporter": "python",
   "pygments_lexer": "ipython3",
   "version": "3.7.6"
  }
 },
 "nbformat": 4,
 "nbformat_minor": 4
}
